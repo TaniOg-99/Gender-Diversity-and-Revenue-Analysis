{
 "cells": [
  {
   "cell_type": "markdown",
   "id": "9df0e1ac-7807-46dc-84d2-68313b074e80",
   "metadata": {},
   "source": [
    "## FINAL PROJECT CODE ANALYSIS"
   ]
  },
  {
   "cell_type": "code",
   "execution_count": 136,
   "id": "9493555b-e98e-4475-805f-7c8a52a6f128",
   "metadata": {},
   "outputs": [],
   "source": [
    "# Importing necessary libraries\n",
    "# The various libraries that will be used in the process of the analysis- \n",
    "# `os` and `math` for handling basic system operations and mathematical functions\n",
    "# `numpy` and `pandas` for data manipulation (loading, cleaning, and transformation)\n",
    "# `matplotlib.pyplot` for creating visualizations like histograms and scatter plots\n",
    "# `statsmodels` for performing statistical analysis (OLS regression, hypothesis testing)\n",
    "# `sklearn` for machine learning models (Linear Regression, Decision Trees, Random Forests)\n",
    "\n",
    "import os\n",
    "import math\n",
    "import numpy as np\n",
    "import pandas as pd\n",
    "import matplotlib.pyplot as plt\n",
    "import statsmodels.api as sm\n",
    "import statsmodels.formula.api as smf\n",
    "from statsmodels.stats.outliers_influence import variance_inflation_factor\n",
    "from statsmodels.stats.diagnostic import het_breuschpagan\n",
    "from sklearn.model_selection import train_test_split, KFold, cross_val_score\n",
    "from sklearn.linear_model import LinearRegression\n",
    "from sklearn.tree import DecisionTreeRegressor\n",
    "from sklearn.ensemble import RandomForestRegressor\n",
    "from sklearn.metrics import r2_score, mean_absolute_error, mean_squared_error\n"
   ]
  },
  {
   "cell_type": "code",
   "execution_count": 138,
   "id": "6e6c4d3f-5f74-4d0d-b30c-9e4daeba10e7",
   "metadata": {},
   "outputs": [
    {
     "name": "stdout",
     "output_type": "stream",
     "text": [
      "Columns: ['Company Name', 'Industry', 'Country', 'Diversity Score (Glassdoor)', 'Gender Diversity (%)', 'Revenue (USD Billion)', 'Net Profit Margin (%)', 'ROE (Return on Equity)', 'Data Source']\n",
      "  Company Name    Industry Country  Diversity Score (Glassdoor)  \\\n",
      "0        Apple  Technology     USA                          4.2   \n",
      "1    Microsoft  Technology     USA                          4.2   \n",
      "2       Amazon      Retail     USA                          3.9   \n",
      "\n",
      "   Gender Diversity (%)  Revenue (USD Billion)  Net Profit Margin (%)  \\\n",
      "0                  35.0                  391.0                  31.58   \n",
      "1                  31.6                  245.0                  43.97   \n",
      "2                  43.7                  638.0                  10.76   \n",
      "\n",
      "   ROE (Return on Equity)                                        Data Source  \n",
      "0                  216.83  Industry: Orbis \\nCountry: Orbis\\nDiversity Sc...  \n",
      "1                   40.15  Industry: Orbis \\nCountry: Orbis\\nDiversity Sc...  \n",
      "2                   23.99  Industry: Orbis \\nCountry: Orbis\\nDiversity Sc...  \n"
     ]
    }
   ],
   "source": [
    "# Loading and Inspecting the Dataset\n",
    "# This step is important to make sure that the dataset has been correctly loaded\n",
    "\n",
    "df = pd.read_excel(\"PROJECTDATASET.xlsx\")\n",
    "print(\"Columns:\", list(df.columns))\n",
    "print(df.head(3)) "
   ]
  },
  {
   "cell_type": "code",
   "execution_count": 140,
   "id": "51bf9332-0e08-42d8-b7cf-b811f5db4d3e",
   "metadata": {},
   "outputs": [],
   "source": [
    "# Data Cleaning and Feature Engineering \n",
    "# Renaming columns for better readability and consistency with the rest of the code\n",
    "# This step is to avoid long column names or spaces that are harder to work with\n",
    "\n",
    "df = df.rename(columns={\n",
    "    \"Company Name\": \"company\",\n",
    "    \"Country\": \"country\",\n",
    "    \"Industry\": \"industry\",\n",
    "    \"Diversity Score (Glassdoor)\": \"div_score\",\n",
    "    \"Gender Diversity (%)\": \"gender_div\",\n",
    "    \"Revenue (USD Billion)\": \"revenue\",\n",
    "    \"ROE (Return on Equity)\": \"roe\",\n",
    "    \"Net Profit Margin (%)\": \"npm\"})"
   ]
  },
  {
   "cell_type": "code",
   "execution_count": 142,
   "id": "a8264c5d-b83d-4344-9d5d-e70bc6f5a35e",
   "metadata": {},
   "outputs": [],
   "source": [
    "# Selecting the columns that are most important for our analysis\n",
    "# Discarding unnecessary columns and keep only the ones related to the company, country, industry, diversity, revenue, and profitability\n",
    "\n",
    "keep_cols = [\"company\", \"country\", \"industry\", \"div_score\", \"gender_div\", \"revenue\", \"roe\", \"npm\"]\n",
    "df = df[[c for c in keep_cols if c in df.columns]].copy()  # Ensures that we keep only the existing columns"
   ]
  },
  {
   "cell_type": "code",
   "execution_count": 144,
   "id": "bf100e68-3cf9-471a-8217-41638321607e",
   "metadata": {},
   "outputs": [],
   "source": [
    "# Type Cleaning and Feature Engineering\n",
    "# Here, we ensure that the numeric columns are properly converted into numeric data types\n",
    "# This is important because some of the columns might have been read as strings, which would prevent mathematical operations\n",
    "\n",
    "for col in [\"div_score\", \"gender_div\", \"revenue\", \"roe\", \"npm\"]:\n",
    "    if col in df.columns:\n",
    "        df[col] = pd.to_numeric(df[col], errors=\"coerce\")  # 'coerce' changes any non-numeric value to NaN"
   ]
  },
  {
   "cell_type": "code",
   "execution_count": 146,
   "id": "205a2502-e47f-4504-b368-7dcddbedc559",
   "metadata": {},
   "outputs": [
    {
     "name": "stdout",
     "output_type": "stream",
     "text": [
      "\n",
      "Missing values per column:\n",
      " company       0\n",
      "country       0\n",
      "industry      0\n",
      "div_score     0\n",
      "gender_div    0\n",
      "revenue       0\n",
      "roe           0\n",
      "npm           0\n",
      "dtype: int64\n"
     ]
    }
   ],
   "source": [
    "# Confirming there are no missing values in the dataset to ensure the integrity of the data\n",
    "# Missing data would be problematic for the analysis, so this step is necessary for identifying gaps\n",
    "\n",
    "missing = df.isna().sum()\n",
    "print(\"\\nMissing values per column:\\n\", missing)  # shows the output the number of missing values for each column"
   ]
  },
  {
   "cell_type": "code",
   "execution_count": 148,
   "id": "ff43b774-e62a-4db3-9921-3462bcb0dc94",
   "metadata": {},
   "outputs": [],
   "source": [
    "# Performing a log-transformation of the revenue column to reduce its right skew\n",
    "# This is done because financial data like revenue is often skewed, and taking the log can stabilize variance and improve model performance\n",
    "\n",
    "df[\"log_revenue\"] = np.log1p(df[\"revenue\"])"
   ]
  },
  {
   "cell_type": "code",
   "execution_count": 150,
   "id": "c070f03a-3e4d-4e6a-a062-9d0af3b098cd",
   "metadata": {},
   "outputs": [],
   "source": [
    "# Centering and scaling the `gender_div` column helps interpret it more easily in models\n",
    "# This is especially important for polynomial terms where centering improves the interpretation of coefficients\n",
    "\n",
    "df[\"gender_div_c\"] = df[\"gender_div\"] - df[\"gender_div\"].mean()"
   ]
  },
  {
   "cell_type": "code",
   "execution_count": 152,
   "id": "153e7ccc-b7d5-4e1d-b4f9-803e6bb826d7",
   "metadata": {},
   "outputs": [
    {
     "name": "stdout",
     "output_type": "stream",
     "text": [
      "\n",
      "Descriptive statistics (saved to outputs/01_descriptives.csv):\n",
      "              count       mean        std         min        25%        50%  \\\n",
      "gender_div   200.0  39.800750  11.217230   15.000000  32.000000  40.000000   \n",
      "div_score    200.0   3.949000   0.279445    2.700000   3.800000   4.000000   \n",
      "revenue      200.0  79.845900  99.654981    1.870000  24.000000  49.500000   \n",
      "roe          200.0  30.536700  74.867471 -146.690000  10.330000  17.365000   \n",
      "npm          200.0  14.898500  14.697766  -57.560000   6.492500  13.715000   \n",
      "log_revenue  200.0   3.845932   1.088120    1.054312   3.218852   3.921965   \n",
      "\n",
      "                   75%        max  \n",
      "gender_div   47.550000   71.00000  \n",
      "div_score     4.100000    4.40000  \n",
      "revenue      89.900000  681.00000  \n",
      "roe          32.632500  610.33000  \n",
      "npm          23.392500   66.57000  \n",
      "log_revenue   4.509715    6.52503  \n"
     ]
    }
   ],
   "source": [
    "# Descriptive Statistics\n",
    "# This gives a quick overview of the central tendency, spread, and outliers of key variables\n",
    "# It helps in understanding the data before diving into deeper analysis\n",
    "\n",
    "desc = df[[\"gender_div\", \"div_score\", \"revenue\", \"roe\", \"npm\", \"log_revenue\"]].describe().T\n",
    "print(\"\\nDescriptive statistics (saved to outputs/01_descriptives.csv):\\n\", desc)"
   ]
  },
  {
   "cell_type": "code",
   "execution_count": 154,
   "id": "a259b20c-0298-4e87-b699-85ffee6af125",
   "metadata": {},
   "outputs": [],
   "source": [
    "# Country and Industry Profiles\n",
    "# Grouping the data by `country` and `industry` to get summary statistics\n",
    "# The purpose is to understand the distribution of gender diversity and revenue across countries and industries\n",
    "# This will help in identifying any regional or sectoral patterns, as well as to facilitate targeted recommendations\n",
    "\n",
    "group_country = (df.groupby(\"country\", as_index=False)\n",
    "                .agg(n=(\"company\", \"count\"),\n",
    "                     gender_div_mean=(\"gender_div\", \"mean\"),\n",
    "                     revenue_mean=(\"revenue\", \"mean\")))\n",
    "group_country = group_country.sort_values([\"revenue_mean\"], ascending=False)\n",
    "\n",
    "group_industry = (df.groupby(\"industry\", as_index=False)\n",
    "                  .agg(n=(\"company\", \"count\"),\n",
    "                       gender_div_mean=(\"gender_div\", \"mean\"),\n",
    "                       revenue_mean=(\"revenue\", \"mean\")))\n",
    "group_industry = group_industry.sort_values([\"revenue_mean\"], ascending=False)"
   ]
  },
  {
   "cell_type": "code",
   "execution_count": 156,
   "id": "35e547b9-34e7-4692-8236-98b1b9b60cfe",
   "metadata": {},
   "outputs": [
    {
     "name": "stdout",
     "output_type": "stream",
     "text": [
      "\n",
      "Top 10 countries by mean revenue:\n",
      "            country   n  gender_div_mean  revenue_mean\n",
      "20    Saudi Arabia   1        31.000000    480.000000\n",
      "16      Luxembourg   1        44.000000    149.000000\n",
      "14           Japan   5        31.760000    132.020000\n",
      "15           Korea   3        28.833333    127.900000\n",
      "18          Norway   1        40.000000    104.000000\n",
      "10         Germany  12        37.120833    102.875000\n",
      "25             USA  98        42.373469     92.866429\n",
      "4   Cayman Islands   7        40.800000     71.825714\n",
      "9           France  10        43.430000     69.710000\n",
      "1          Belgium   1        35.000000     60.600000\n",
      "\n",
      "Top 10 industries by mean revenue:\n",
      "                         industry   n  gender_div_mean  revenue_mean\n",
      "14                     Wholesale   1        55.000000    359.000000\n",
      "11                    Technology   6        33.183333    211.866667\n",
      "9                         Retail  19        45.247368    177.147368\n",
      "8               Health Insurance   4        58.000000    152.500000\n",
      "12                     Transport  17        30.300000    121.962941\n",
      "0                 Communications   3        30.166667     98.790000\n",
      "1              Computer Hardware   2        36.150000     74.600000\n",
      "2                      Corporate  86        37.973837     59.615930\n",
      "6             Financial Services  36        47.933333     49.080278\n",
      "7   Food & Tobacco Manufacturing  11        36.418182     43.572727\n"
     ]
    }
   ],
   "source": [
    "# Display top 10 countries and industries by mean revenue\n",
    "\n",
    "print(\"\\nTop 10 countries by mean revenue:\\n\", group_country.head(10))\n",
    "print(\"\\nTop 10 industries by mean revenue:\\n\", group_industry.head(10))"
   ]
  },
  {
   "cell_type": "code",
   "execution_count": 158,
   "id": "77fca842-3dc5-40e6-a430-47299c038574",
   "metadata": {},
   "outputs": [
    {
     "data": {
      "image/png": "[encoded data removed]",
      "text/plain": [
       "<Figure size 700x400 with 1 Axes>"
      ]
     },
     "metadata": {},
     "output_type": "display_data"
    }
   ],
   "source": [
    "# Visual EDA\n",
    "# Here we create visualizations to explore the distribution of key variables and relationships\n",
    "# Histograms are useful for seeing the distribution of individual features like gender diversity and revenue\n",
    "# Scatter plots are used to examine the relationship between two continuous variables, in this case, gender diversity and log-transformed revenue\n",
    "\n",
    "# Histogram: Gender Diversity\n",
    "\n",
    "plt.figure(figsize=(7, 4))\n",
    "plt.hist(df[\"gender_div\"], bins=15, color='skyblue', edgecolor='black')\n",
    "plt.title(\"Distribution of Gender Diversity (%)\")\n",
    "plt.xlabel(\"Gender Diversity (%)\")\n",
    "plt.ylabel(\"Count\")\n",
    "plt.tight_layout()  # Makes the plot look better without overlapping text\n",
    "plt.show()"
   ]
  },
  {
   "cell_type": "code",
   "execution_count": 160,
   "id": "547f7e9f-72d5-45e2-bc20-1a18a965c314",
   "metadata": {},
   "outputs": [
    {
     "data": {
      "image/png": "[encoded data removed]",
      "text/plain": [
       "<Figure size 700x400 with 1 Axes>"
      ]
     },
     "metadata": {},
     "output_type": "display_data"
    }
   ],
   "source": [
    "# Histogram: Log-transformed Revenue\n",
    "\n",
    "plt.figure(figsize=(7, 4))\n",
    "plt.hist(df[\"log_revenue\"], bins=15, color='red', edgecolor='black')\n",
    "plt.title(\"Distribution of Log(Revenue + 1), USD Bn\")\n",
    "plt.xlabel(\"Log(Revenue + 1), USD Bn\")\n",
    "plt.ylabel(\"Count\")\n",
    "plt.tight_layout()\n",
    "plt.show()"
   ]
  },
  {
   "cell_type": "code",
   "execution_count": 162,
   "id": "5b476d5b-c64c-456c-9338-fad69704a088",
   "metadata": {},
   "outputs": [
    {
     "data": {
      "image/png": "[encoded data removed]",
      "text/plain": [
       "<Figure size 600x400 with 1 Axes>"
      ]
     },
     "metadata": {},
     "output_type": "display_data"
    }
   ],
   "source": [
    "# Scatter plot: Gender Diversity vs Log Revenue with OLS trendline\n",
    "\n",
    "plt.figure(figsize=(6, 4))\n",
    "plt.scatter(df[\"gender_div\"], df[\"log_revenue\"], alpha=0.7, color='brown')\n",
    "\n",
    "# Adding a simple OLS trendline to the scatter plot\n",
    "\n",
    "m, b = np.polyfit(df[\"gender_div\"], df[\"log_revenue\"], 1)\n",
    "x_line = np.linspace(df[\"gender_div\"].min(), df[\"gender_div\"].max(), 100)\n",
    "plt.plot(x_line, m*x_line + b, color=\"yellow\")  # Trendline\n",
    "plt.title(\"Gender Diversity vs. Log Revenue\")\n",
    "plt.xlabel(\"Gender Diversity (%)\")\n",
    "plt.ylabel(\"Log(Revenue + 1)\")\n",
    "plt.tight_layout()\n",
    "plt.show()"
   ]
  },
  {
   "cell_type": "code",
   "execution_count": 164,
   "id": "4966891b-961f-498f-80b9-1b0e8b7a72d5",
   "metadata": {},
   "outputs": [
    {
     "name": "stdout",
     "output_type": "stream",
     "text": [
      "\n",
      "Pearson correlation (Gender Diversity vs. Log Revenue): 0.039\n"
     ]
    }
   ],
   "source": [
    "# Correlation Analysis\n",
    "# This section calculates the Pearson correlation coefficient between gender diversity and revenue (log-transformed)\n",
    "# It helps to show the strength and direction of the linear relationship between the two variables\n",
    "\n",
    "corr = df[\"gender_div\"].corr(df[\"log_revenue\"])\n",
    "print(f\"\\nPearson correlation (Gender Diversity vs. Log Revenue): {corr:.3f}\")"
   ]
  },
  {
   "cell_type": "code",
   "execution_count": 166,
   "id": "497d376e-d826-4709-aa24-bc12cae7edd4",
   "metadata": {},
   "outputs": [
    {
     "name": "stdout",
     "output_type": "stream",
     "text": [
      "\n",
      "Bivariate OLS:\n",
      "                            OLS Regression Results                            \n",
      "==============================================================================\n",
      "Dep. Variable:            log_revenue   R-squared:                       0.002\n",
      "Model:                            OLS   Adj. R-squared:                 -0.003\n",
      "Method:                 Least Squares   F-statistic:                    0.3065\n",
      "Date:                Mon, 25 Aug 2025   Prob (F-statistic):              0.580\n",
      "Time:                        02:57:53   Log-Likelihood:                -300.02\n",
      "No. Observations:                 200   AIC:                             604.0\n",
      "Df Residuals:                     198   BIC:                             610.6\n",
      "Df Model:                           1                                         \n",
      "Covariance Type:            nonrobust                                         \n",
      "==============================================================================\n",
      "                 coef    std err          t      P>|t|      [0.025      0.975]\n",
      "------------------------------------------------------------------------------\n",
      "Intercept      3.6942      0.285     12.971      0.000       3.133       4.256\n",
      "gender_div     0.0038      0.007      0.554      0.580      -0.010       0.017\n",
      "==============================================================================\n",
      "Omnibus:                        1.575   Durbin-Watson:                   1.000\n",
      "Prob(Omnibus):                  0.455   Jarque-Bera (JB):                1.536\n",
      "Skew:                          -0.212   Prob(JB):                        0.464\n",
      "Kurtosis:                       2.934   Cond. No.                         153.\n",
      "==============================================================================\n",
      "\n",
      "Notes:\n",
      "[1] Standard Errors assume that the covariance matrix of the errors is correctly specified.\n"
     ]
    }
   ],
   "source": [
    "# OLS Models\n",
    "# In this part, the Ordinary Least Squares (OLS) models are fit to quantify the relationship between gender diversity and revenue\n",
    "# The first model is a simple bivariate regression (gender_div and log_revenue) to understand the baseline effect\n",
    "# The second model is multivariate with fixed effects (industry and country) and non-linearity (quadratic terms)\n",
    "# The purpose is to control for confounding variables and explore more complex relationships\n",
    "\n",
    "# Simple OLS model: Gender Diversity vs Log Revenue\n",
    "\n",
    "model_ols_simple = smf.ols(\"log_revenue ~ gender_div\", data=df).fit()\n",
    "print(\"\\nBivariate OLS:\")\n",
    "print(model_ols_simple.summary())"
   ]
  },
  {
   "cell_type": "code",
   "execution_count": 168,
   "id": "71702e3f-4a87-431a-9e7d-100d3cc2dde1",
   "metadata": {},
   "outputs": [
    {
     "name": "stdout",
     "output_type": "stream",
     "text": [
      "\n",
      "Multivariate OLS with FE (no robust SE):\n",
      "                            OLS Regression Results                            \n",
      "==============================================================================\n",
      "Dep. Variable:            log_revenue   R-squared:                       0.442\n",
      "Model:                            OLS   Adj. R-squared:                  0.289\n",
      "Method:                 Least Squares   F-statistic:                     2.878\n",
      "Date:                Mon, 25 Aug 2025   Prob (F-statistic):           9.84e-07\n",
      "Time:                        02:57:54   Log-Likelihood:                -241.77\n",
      "No. Observations:                 200   AIC:                             571.5\n",
      "Df Residuals:                     156   BIC:                             716.7\n",
      "Df Model:                          43                                         \n",
      "Covariance Type:            nonrobust                                         \n",
      "===============================================================================================================\n",
      "                                                  coef    std err          t      P>|t|      [0.025      0.975]\n",
      "---------------------------------------------------------------------------------------------------------------\n",
      "Intercept                                       2.9963      1.225      2.446      0.016       0.576       5.416\n",
      "C(industry)[T.Computer Hardware]                0.9665      0.882      1.095      0.275      -0.777       2.710\n",
      "C(industry)[T.Corporate]                        0.3554      0.603      0.589      0.557      -0.836       1.547\n",
      "C(industry)[T.E-Commerce]                      -1.0702      1.096     -0.976      0.330      -3.235       1.095\n",
      "C(industry)[T.Electric Machinery]               0.2258      0.652      0.347      0.729      -1.061       1.513\n",
      "C(industry)[T.Entertainment]                    0.2832      0.971      0.292      0.771      -1.635       2.202\n",
      "C(industry)[T.Financial Services]               0.2836      0.627      0.452      0.652      -0.954       1.522\n",
      "C(industry)[T.Food & Tobacco Manufacturing]     0.4488      0.664      0.676      0.500      -0.862       1.760\n",
      "C(industry)[T.Health Insurance]                 1.6011      0.784      2.043      0.043       0.053       3.149\n",
      "C(industry)[T.Retail]                           1.5850      0.631      2.513      0.013       0.339       2.831\n",
      "C(industry)[T.Social Networking]               -1.3914      1.105     -1.259      0.210      -3.574       0.791\n",
      "C(industry)[T.Technology]                       1.5440      0.704      2.194      0.030       0.154       2.934\n",
      "C(industry)[T.Transport]                        1.1160      0.616      1.811      0.072      -0.101       2.333\n",
      "C(industry)[T.Travel & Accommodation]          -1.0449      1.104     -0.946      0.345      -3.226       1.136\n",
      "C(industry)[T.Wholesale]                        2.5905      1.118      2.317      0.022       0.382       4.799\n",
      "C(country)[T.Belgium]                           0.0640      1.171      0.055      0.956      -2.249       2.377\n",
      "C(country)[T.Brazil]                           -0.1212      1.160     -0.104      0.917      -2.413       2.171\n",
      "C(country)[T.Canada]                           -0.8248      0.924     -0.892      0.374      -2.651       1.001\n",
      "C(country)[T.Cayman Islands]                   -0.6125      0.747     -0.820      0.413      -2.087       0.862\n",
      "C(country)[T.China]                            -0.3676      0.943     -0.390      0.697      -2.231       1.496\n",
      "C(country)[T.Curacao]                          -0.2087      1.147     -0.182      0.856      -2.474       2.057\n",
      "C(country)[T.Denmark]                          -1.4977      0.867     -1.727      0.086      -3.211       0.216\n",
      "C(country)[T.Finland]                          -0.7506      1.129     -0.665      0.507      -2.981       1.480\n",
      "C(country)[T.France]                            0.0760      0.722      0.105      0.916      -1.350       1.502\n",
      "C(country)[T.Germany]                           0.1996      0.716      0.279      0.781      -1.215       1.615\n",
      "C(country)[T.India]                            -0.7284      0.797     -0.914      0.362      -2.302       0.845\n",
      "C(country)[T.Ireland]                          -0.6246      0.869     -0.718      0.474      -2.342       1.093\n",
      "C(country)[T.Italy]                            -1.4443      0.932     -1.550      0.123      -3.284       0.396\n",
      "C(country)[T.Japan]                             0.5573      0.799      0.697      0.487      -1.021       2.136\n",
      "C(country)[T.Korea]                             0.3684      0.883      0.417      0.677      -1.376       2.113\n",
      "C(country)[T.Luxembourg]                        1.1627      1.134      1.025      0.307      -1.078       3.403\n",
      "C(country)[T.Netherlands]                      -1.3063      0.754     -1.733      0.085      -2.796       0.183\n",
      "C(country)[T.Norway]                            0.5874      1.129      0.520      0.604      -1.643       2.817\n",
      "C(country)[T.Russia]                           -2.0755      1.168     -1.777      0.077      -4.382       0.231\n",
      "C(country)[T.Saudi Arabia]                      1.9732      1.127      1.751      0.082      -0.253       4.199\n",
      "C(country)[T.Spain]                             0.0275      1.133      0.024      0.981      -2.211       2.266\n",
      "C(country)[T.Sweden]                           -1.0276      1.007     -1.020      0.309      -3.017       0.962\n",
      "C(country)[T.Switzerland]                      -0.2437      0.782     -0.312      0.756      -1.788       1.300\n",
      "C(country)[T.UK]                               -0.6278      0.688     -0.912      0.363      -1.987       0.732\n",
      "C(country)[T.USA]                              -0.1474      0.672     -0.219      0.827      -1.475       1.180\n",
      "gender_div                                      0.0227      0.043      0.534      0.594      -0.061       0.107\n",
      "I(gender_div ** 2)                             -0.0003      0.001     -0.575      0.566      -0.001       0.001\n",
      "roe                                            -0.0005      0.001     -0.505      0.614      -0.002       0.001\n",
      "npm                                             0.0104      0.005      1.919      0.057      -0.000       0.021\n",
      "==============================================================================\n",
      "Omnibus:                        1.872   Durbin-Watson:                   1.409\n",
      "Prob(Omnibus):                  0.392   Jarque-Bera (JB):                1.644\n",
      "Skew:                          -0.039   Prob(JB):                        0.439\n",
      "Kurtosis:                       3.437   Cond. No.                     1.03e+05\n",
      "==============================================================================\n",
      "\n",
      "Notes:\n",
      "[1] Standard Errors assume that the covariance matrix of the errors is correctly specified.\n",
      "[2] The condition number is large, 1.03e+05. This might indicate that there are\n",
      "strong multicollinearity or other numerical problems.\n"
     ]
    }
   ],
   "source": [
    "# Multivariate OLS model with fixed effects and non-linearity\n",
    "\n",
    "formula_fe = \"log_revenue ~ gender_div + I(gender_div**2) + roe + npm + C(industry) + C(country)\"\n",
    "model_ols_fe = smf.ols(formula_fe, data=df).fit()\n",
    "print(\"\\nMultivariate OLS with FE (no robust SE):\")\n",
    "print(model_ols_fe.summary())"
   ]
  },
  {
   "cell_type": "code",
   "execution_count": 170,
   "id": "c73e901d-fbad-41b8-97d9-b62fd95c7206",
   "metadata": {},
   "outputs": [
    {
     "name": "stdout",
     "output_type": "stream",
     "text": [
      "\n",
      "OLS with industry-clustered SE:\n",
      "                            OLS Regression Results                            \n",
      "==============================================================================\n",
      "Dep. Variable:            log_revenue   R-squared:                       0.442\n",
      "Model:                            OLS   Adj. R-squared:                  0.289\n",
      "Method:                 Least Squares   F-statistic:                -1.445e+10\n",
      "Date:                Mon, 25 Aug 2025   Prob (F-statistic):               1.00\n",
      "Time:                        02:57:58   Log-Likelihood:                -241.77\n",
      "No. Observations:                 200   AIC:                             571.5\n",
      "Df Residuals:                     156   BIC:                             716.7\n",
      "Df Model:                          43                                         \n",
      "Covariance Type:              cluster                                         \n",
      "===============================================================================================================\n",
      "                                                  coef    std err          t      P>|t|      [0.025      0.975]\n",
      "---------------------------------------------------------------------------------------------------------------\n",
      "Intercept                                       2.9963      0.609      4.921      0.000       1.690       4.302\n",
      "C(industry)[T.Computer Hardware]                0.9665      0.378      2.558      0.023       0.156       1.777\n",
      "C(industry)[T.Corporate]                        0.3554      0.353      1.007      0.331      -0.401       1.112\n",
      "C(industry)[T.E-Commerce]                      -1.0702      0.389     -2.748      0.016      -1.906      -0.235\n",
      "C(industry)[T.Electric Machinery]               0.2258      0.356      0.634      0.537      -0.539       0.990\n",
      "C(industry)[T.Entertainment]                    0.2832      0.408      0.694      0.499      -0.592       1.158\n",
      "C(industry)[T.Financial Services]               0.2836      0.371      0.765      0.457      -0.512       1.079\n",
      "C(industry)[T.Food & Tobacco Manufacturing]     0.4488      0.364      1.232      0.238      -0.332       1.230\n",
      "C(industry)[T.Health Insurance]                 1.6011      0.489      3.272      0.006       0.552       2.651\n",
      "C(industry)[T.Retail]                           1.5850      0.322      4.920      0.000       0.894       2.276\n",
      "C(industry)[T.Social Networking]               -1.3914      0.412     -3.374      0.005      -2.276      -0.507\n",
      "C(industry)[T.Technology]                       1.5440      0.393      3.930      0.002       0.701       2.387\n",
      "C(industry)[T.Transport]                        1.1160      0.275      4.063      0.001       0.527       1.705\n",
      "C(industry)[T.Travel & Accommodation]          -1.0449      0.431     -2.425      0.029      -1.969      -0.121\n",
      "C(industry)[T.Wholesale]                        2.5905      0.455      5.691      0.000       1.614       3.567\n",
      "C(country)[T.Belgium]                           0.0640      0.070      0.909      0.379      -0.087       0.215\n",
      "C(country)[T.Brazil]                           -0.1212      0.133     -0.910      0.378      -0.407       0.165\n",
      "C(country)[T.Canada]                           -0.8248      0.430     -1.918      0.076      -1.747       0.097\n",
      "C(country)[T.Cayman Islands]                   -0.6125      0.039    -15.722      0.000      -0.696      -0.529\n",
      "C(country)[T.China]                            -0.3676      0.118     -3.119      0.008      -0.620      -0.115\n",
      "C(country)[T.Curacao]                          -0.2087      0.112     -1.869      0.083      -0.448       0.031\n",
      "C(country)[T.Denmark]                          -1.4977      0.120    -12.477      0.000      -1.755      -1.240\n",
      "C(country)[T.Finland]                          -0.7506      0.105     -7.157      0.000      -0.976      -0.526\n",
      "C(country)[T.France]                            0.0760      0.205      0.370      0.717      -0.365       0.517\n",
      "C(country)[T.Germany]                           0.1996      0.135      1.480      0.161      -0.090       0.489\n",
      "C(country)[T.India]                            -0.7284      0.059    -12.412      0.000      -0.854      -0.603\n",
      "C(country)[T.Ireland]                          -0.6246      0.657     -0.951      0.358      -2.033       0.784\n",
      "C(country)[T.Italy]                            -1.4443      1.584     -0.912      0.377      -4.841       1.952\n",
      "C(country)[T.Japan]                             0.5573      0.212      2.624      0.020       0.102       1.013\n",
      "C(country)[T.Korea]                             0.3684      0.918      0.401      0.694      -1.600       2.336\n",
      "C(country)[T.Luxembourg]                        1.1627      0.166      7.022      0.000       0.808       1.518\n",
      "C(country)[T.Netherlands]                      -1.3063      0.216     -6.060      0.000      -1.769      -0.844\n",
      "C(country)[T.Norway]                            0.5874      0.078      7.554      0.000       0.421       0.754\n",
      "C(country)[T.Russia]                           -2.0755      0.138    -15.052      0.000      -2.371      -1.780\n",
      "C(country)[T.Saudi Arabia]                      1.9732      0.082     24.182      0.000       1.798       2.148\n",
      "C(country)[T.Spain]                             0.0275      0.078      0.350      0.731      -0.141       0.196\n",
      "C(country)[T.Sweden]                           -1.0276      0.162     -6.336      0.000      -1.375      -0.680\n",
      "C(country)[T.Switzerland]                      -0.2437      0.510     -0.478      0.640      -1.338       0.850\n",
      "C(country)[T.UK]                               -0.6278      0.369     -1.702      0.111      -1.419       0.163\n",
      "C(country)[T.USA]                              -0.1474      0.074     -2.003      0.065      -0.305       0.010\n",
      "gender_div                                      0.0227      0.019      1.202      0.249      -0.018       0.063\n",
      "I(gender_div ** 2)                             -0.0003      0.000     -1.142      0.273      -0.001       0.000\n",
      "roe                                            -0.0005      0.000     -1.061      0.307      -0.001       0.000\n",
      "npm                                             0.0104      0.005      1.898      0.079      -0.001       0.022\n",
      "==============================================================================\n",
      "Omnibus:                        1.872   Durbin-Watson:                   1.409\n",
      "Prob(Omnibus):                  0.392   Jarque-Bera (JB):                1.644\n",
      "Skew:                          -0.039   Prob(JB):                        0.439\n",
      "Kurtosis:                       3.437   Cond. No.                     1.03e+05\n",
      "==============================================================================\n",
      "\n",
      "Notes:\n",
      "[1] Standard Errors are robust to cluster correlation (cluster)\n",
      "[2] The condition number is large, 1.03e+05. This might indicate that there are\n",
      "strong multicollinearity or other numerical problems.\n",
      "\n",
      "OLS with country-clustered SE:\n",
      "                            OLS Regression Results                            \n",
      "==============================================================================\n",
      "Dep. Variable:            log_revenue   R-squared:                       0.442\n",
      "Model:                            OLS   Adj. R-squared:                  0.289\n",
      "Method:                 Least Squares   F-statistic:                     256.0\n",
      "Date:                Mon, 25 Aug 2025   Prob (F-statistic):           7.76e-23\n",
      "Time:                        02:57:58   Log-Likelihood:                -241.77\n",
      "No. Observations:                 200   AIC:                             571.5\n",
      "Df Residuals:                     156   BIC:                             716.7\n",
      "Df Model:                          43                                         \n",
      "Covariance Type:              cluster                                         \n",
      "===============================================================================================================\n",
      "                                                  coef    std err          t      P>|t|      [0.025      0.975]\n",
      "---------------------------------------------------------------------------------------------------------------\n",
      "Intercept                                       2.9963      1.454      2.060      0.050       0.001       5.991\n",
      "C(industry)[T.Computer Hardware]                0.9665      1.070      0.904      0.375      -1.237       3.170\n",
      "C(industry)[T.Corporate]                        0.3554      0.987      0.360      0.722      -1.678       2.389\n",
      "C(industry)[T.E-Commerce]                      -1.0702      1.008     -1.062      0.299      -3.146       1.006\n",
      "C(industry)[T.Electric Machinery]               0.2258      1.059      0.213      0.833      -1.954       2.406\n",
      "C(industry)[T.Entertainment]                    0.2832      0.904      0.313      0.757      -1.579       2.146\n",
      "C(industry)[T.Financial Services]               0.2836      1.086      0.261      0.796      -1.954       2.521\n",
      "C(industry)[T.Food & Tobacco Manufacturing]     0.4488      0.925      0.485      0.632      -1.456       2.353\n",
      "C(industry)[T.Health Insurance]                 1.6011      1.008      1.589      0.125      -0.474       3.677\n",
      "C(industry)[T.Retail]                           1.5850      1.262      1.256      0.221      -1.014       4.185\n",
      "C(industry)[T.Social Networking]               -1.3914      1.058     -1.315      0.200      -3.570       0.787\n",
      "C(industry)[T.Technology]                       1.5440      1.042      1.482      0.151      -0.602       3.689\n",
      "C(industry)[T.Transport]                        1.1160      1.127      0.990      0.332      -1.205       3.437\n",
      "C(industry)[T.Travel & Accommodation]          -1.0449      0.971     -1.076      0.292      -3.044       0.954\n",
      "C(industry)[T.Wholesale]                        2.5905      1.024      2.531      0.018       0.482       4.699\n",
      "C(country)[T.Belgium]                           0.0640      0.221      0.289      0.775      -0.391       0.519\n",
      "C(country)[T.Brazil]                           -0.1212      0.246     -0.493      0.626      -0.628       0.385\n",
      "C(country)[T.Canada]                           -0.8248      0.184     -4.494      0.000      -1.203      -0.447\n",
      "C(country)[T.Cayman Islands]                   -0.6125      0.221     -2.773      0.010      -1.067      -0.158\n",
      "C(country)[T.China]                            -0.3676      0.213     -1.726      0.097      -0.806       0.071\n",
      "C(country)[T.Curacao]                          -0.2087      0.214     -0.976      0.338      -0.649       0.232\n",
      "C(country)[T.Denmark]                          -1.4977      0.200     -7.481      0.000      -1.910      -1.085\n",
      "C(country)[T.Finland]                          -0.7506      0.111     -6.768      0.000      -0.979      -0.522\n",
      "C(country)[T.France]                            0.0760      0.188      0.403      0.690      -0.312       0.464\n",
      "C(country)[T.Germany]                           0.1996      0.173      1.151      0.261      -0.158       0.557\n",
      "C(country)[T.India]                            -0.7284      0.043    -17.097      0.000      -0.816      -0.641\n",
      "C(country)[T.Ireland]                          -0.6246      0.183     -3.416      0.002      -1.001      -0.248\n",
      "C(country)[T.Italy]                            -1.4443      0.183     -7.905      0.000      -1.821      -1.068\n",
      "C(country)[T.Japan]                             0.5573      0.237      2.349      0.027       0.069       1.046\n",
      "C(country)[T.Korea]                             0.3684      0.306      1.202      0.240      -0.263       0.999\n",
      "C(country)[T.Luxembourg]                        1.1627      0.137      8.476      0.000       0.880       1.445\n",
      "C(country)[T.Netherlands]                      -1.3063      0.195     -6.692      0.000      -1.708      -0.904\n",
      "C(country)[T.Norway]                            0.5874      0.134      4.374      0.000       0.311       0.864\n",
      "C(country)[T.Russia]                           -2.0755      0.229     -9.060      0.000      -2.547      -1.604\n",
      "C(country)[T.Saudi Arabia]                      1.9732      0.080     24.740      0.000       1.809       2.138\n",
      "C(country)[T.Spain]                             0.0275      0.150      0.184      0.856      -0.281       0.335\n",
      "C(country)[T.Sweden]                           -1.0276      0.166     -6.203      0.000      -1.369      -0.686\n",
      "C(country)[T.Switzerland]                      -0.2437      0.190     -1.284      0.211      -0.634       0.147\n",
      "C(country)[T.UK]                               -0.6278      0.201     -3.122      0.004      -1.042      -0.214\n",
      "C(country)[T.USA]                              -0.1474      0.214     -0.688      0.498      -0.589       0.294\n",
      "gender_div                                      0.0227      0.030      0.769      0.449      -0.038       0.084\n",
      "I(gender_div ** 2)                             -0.0003      0.000     -0.884      0.385      -0.001       0.000\n",
      "roe                                            -0.0005      0.001     -0.823      0.418      -0.002       0.001\n",
      "npm                                             0.0104      0.005      2.078      0.048    9.42e-05       0.021\n",
      "==============================================================================\n",
      "Omnibus:                        1.872   Durbin-Watson:                   1.409\n",
      "Prob(Omnibus):                  0.392   Jarque-Bera (JB):                1.644\n",
      "Skew:                          -0.039   Prob(JB):                        0.439\n",
      "Kurtosis:                       3.437   Cond. No.                     1.03e+05\n",
      "==============================================================================\n",
      "\n",
      "Notes:\n",
      "[1] Standard Errors are robust to cluster correlation (cluster)\n",
      "[2] The condition number is large, 1.03e+05. This might indicate that there are\n",
      "strong multicollinearity or other numerical problems.\n"
     ]
    },
    {
     "name": "stderr",
     "output_type": "stream",
     "text": [
      "C:\\Users\\tanit\\anaconda3\\Lib\\site-packages\\statsmodels\\base\\model.py:1894: ValueWarning: covariance of constraints does not have full rank. The number of constraints is 43, but rank is 11\n",
      "  warnings.warn('covariance of constraints does not have full '\n",
      "C:\\Users\\tanit\\anaconda3\\Lib\\site-packages\\statsmodels\\base\\model.py:1894: ValueWarning: covariance of constraints does not have full rank. The number of constraints is 43, but rank is 11\n",
      "  warnings.warn('covariance of constraints does not have full '\n"
     ]
    }
   ],
   "source": [
    "# Robust Standard Errors\n",
    "# Calculating robust standard errors clustered by industry and country\n",
    "# This is important because clustered standard errors account for intra-group correlation, which would otherwise bias the standard errors and significance tests.\n",
    "\n",
    "cov_ind = model_ols_fe.get_robustcov_results(cov_type='cluster', groups=df['industry'])\n",
    "print(\"\\nOLS with industry-clustered SE:\")\n",
    "print(cov_ind.summary())\n",
    "\n",
    "cov_ctry = model_ols_fe.get_robustcov_results(cov_type='cluster', groups=df['country'])\n",
    "print(\"\\nOLS with country-clustered SE:\")\n",
    "print(cov_ctry.summary())"
   ]
  },
  {
   "cell_type": "code",
   "execution_count": 172,
   "id": "1385d68e-a9a6-4aac-a209-2ad0b6715469",
   "metadata": {},
   "outputs": [
    {
     "name": "stdout",
     "output_type": "stream",
     "text": [
      "\n",
      "Breusch-Pagan heteroskedasticity test:\n",
      " {'LM statistic': 65.72514361450439, 'LM p-value': 0.014404772571754048, 'F statistic': 1.7757956588835409, 'F p-value': 0.00589882655640875}\n"
     ]
    }
   ],
   "source": [
    "# Heteroskedasticity & Multicollinearity\n",
    "# Breusch-Pagan test is used to check for heteroskedasticity, which refers to non-constant variance in the residuals\n",
    "# Variance Inflation Factors (VIFs) are computed to check for multicollinearity between predictors, as high VIFs indicate redundant predictors.\n",
    "\n",
    "# Breusch-Pagan test for heteroskedasticity and variance inflation factors (VIFs)\n",
    "\n",
    "bp_stat = het_breuschpagan(model_ols_fe.resid, model_ols_fe.model.exog)\n",
    "bp_names = [\"LM statistic\", \"LM p-value\", \"F statistic\", \"F p-value\"]\n",
    "bp_res = dict(zip(bp_names, bp_stat))\n",
    "print(\"\\nBreusch-Pagan heteroskedasticity test:\\n\", bp_res)"
   ]
  },
  {
   "cell_type": "code",
   "execution_count": 174,
   "id": "9cf2a157-f344-4d37-a029-b53f41bdf5be",
   "metadata": {},
   "outputs": [
    {
     "name": "stdout",
     "output_type": "stream",
     "text": [
      "\n",
      "Variance Inflation Factors (VIF):\n",
      "      feature        VIF\n",
      "        const 104.467913\n",
      "   gender_div  34.538996\n",
      "          roe   1.056329\n",
      "          npm   1.032554\n",
      "gender_div_sq  34.752043\n"
     ]
    }
   ],
   "source": [
    "# Compute Variance Inflation Factors (VIFs) for numeric regressors\n",
    "\n",
    "X_vif = df[[\"gender_div\", \"roe\", \"npm\"]].assign(gender_div_sq=df[\"gender_div\"]**2).dropna()\n",
    "X_vif = sm.add_constant(X_vif)\n",
    "vif_tbl = pd.DataFrame({\n",
    "    \"feature\": X_vif.columns,\n",
    "    \"VIF\": [variance_inflation_factor(X_vif.values, i) for i in range(X_vif.shape[1])]\n",
    "})\n",
    "print(\"\\nVariance Inflation Factors (VIF):\")\n",
    "print(vif_tbl.to_string(index=False))"
   ]
  },
  {
   "cell_type": "code",
   "execution_count": 176,
   "id": "6818da8f-4694-4a0c-be95-a39a59b3e4aa",
   "metadata": {},
   "outputs": [
    {
     "name": "stdout",
     "output_type": "stream",
     "text": [
      "\n",
      "Piecewise (40%) model:\n",
      "                            OLS Regression Results                            \n",
      "==============================================================================\n",
      "Dep. Variable:            log_revenue   R-squared:                       0.441\n",
      "Model:                            OLS   Adj. R-squared:                  0.287\n",
      "Method:                 Least Squares   F-statistic:                     2.865\n",
      "Date:                Mon, 25 Aug 2025   Prob (F-statistic):           1.10e-06\n",
      "Time:                        02:58:09   Log-Likelihood:                -241.98\n",
      "No. Observations:                 200   AIC:                             572.0\n",
      "Df Residuals:                     156   BIC:                             717.1\n",
      "Df Model:                          43                                         \n",
      "Covariance Type:            nonrobust                                         \n",
      "===============================================================================================================\n",
      "                                                  coef    std err          t      P>|t|      [0.025      0.975]\n",
      "---------------------------------------------------------------------------------------------------------------\n",
      "Intercept                                       3.4887      0.997      3.498      0.001       1.519       5.459\n",
      "C(industry)[T.Computer Hardware]                1.0034      0.886      1.133      0.259      -0.746       2.753\n",
      "C(industry)[T.Corporate]                        0.3548      0.604      0.587      0.558      -0.839       1.549\n",
      "C(industry)[T.E-Commerce]                      -1.0252      1.101     -0.931      0.353      -3.199       1.149\n",
      "C(industry)[T.Electric Machinery]               0.2089      0.652      0.321      0.749      -1.078       1.496\n",
      "C(industry)[T.Entertainment]                    0.3147      0.973      0.324      0.747      -1.607       2.236\n",
      "C(industry)[T.Financial Services]               0.2839      0.628      0.452      0.652      -0.956       1.523\n",
      "C(industry)[T.Food & Tobacco Manufacturing]     0.4757      0.668      0.712      0.477      -0.844       1.795\n",
      "C(industry)[T.Health Insurance]                 1.5285      0.780      1.961      0.052      -0.011       3.068\n",
      "C(industry)[T.Retail]                           1.5780      0.631      2.500      0.013       0.331       2.825\n",
      "C(industry)[T.Social Networking]               -1.3491      1.107     -1.218      0.225      -3.537       0.838\n",
      "C(industry)[T.Technology]                       1.5625      0.705      2.215      0.028       0.169       2.956\n",
      "C(industry)[T.Transport]                        1.0953      0.616      1.778      0.077      -0.122       2.312\n",
      "C(industry)[T.Travel & Accommodation]          -1.0400      1.105     -0.941      0.348      -3.223       1.143\n",
      "C(industry)[T.Wholesale]                        2.5744      1.119      2.301      0.023       0.364       4.785\n",
      "C(country)[T.Belgium]                           0.0643      1.172      0.055      0.956      -2.251       2.380\n",
      "C(country)[T.Brazil]                           -0.2877      1.147     -0.251      0.802      -2.554       1.979\n",
      "C(country)[T.Canada]                           -0.8536      0.925     -0.922      0.358      -2.681       0.974\n",
      "C(country)[T.Cayman Islands]                   -0.6069      0.747     -0.812      0.418      -2.083       0.870\n",
      "C(country)[T.China]                            -0.4765      0.939     -0.508      0.612      -2.330       1.378\n",
      "C(country)[T.Curacao]                          -0.3309      1.142     -0.290      0.772      -2.587       1.925\n",
      "C(country)[T.Denmark]                          -1.5865      0.864     -1.837      0.068      -3.292       0.119\n",
      "C(country)[T.Finland]                          -0.7524      1.130     -0.666      0.507      -2.985       1.481\n",
      "C(country)[T.France]                            0.0778      0.723      0.108      0.914      -1.350       1.505\n",
      "C(country)[T.Germany]                           0.2354      0.719      0.327      0.744      -1.186       1.656\n",
      "C(country)[T.India]                            -0.7206      0.798     -0.903      0.368      -2.297       0.855\n",
      "C(country)[T.Ireland]                          -0.6260      0.870     -0.719      0.473      -2.345       1.093\n",
      "C(country)[T.Italy]                            -1.4913      0.931     -1.601      0.111      -3.331       0.349\n",
      "C(country)[T.Japan]                             0.5669      0.801      0.708      0.480      -1.015       2.149\n",
      "C(country)[T.Korea]                             0.3515      0.883      0.398      0.691      -1.393       2.096\n",
      "C(country)[T.Luxembourg]                        1.2000      1.136      1.056      0.293      -1.045       3.445\n",
      "C(country)[T.Netherlands]                      -1.2881      0.755     -1.705      0.090      -2.780       0.204\n",
      "C(country)[T.Norway]                            0.6270      1.134      0.553      0.581      -1.613       2.867\n",
      "C(country)[T.Russia]                           -2.1887      1.163     -1.882      0.062      -4.486       0.108\n",
      "C(country)[T.Saudi Arabia]                      1.9736      1.128      1.749      0.082      -0.255       4.202\n",
      "C(country)[T.Spain]                            -0.0428      1.134     -0.038      0.970      -2.282       2.196\n",
      "C(country)[T.Sweden]                           -1.0455      1.008     -1.037      0.301      -3.036       0.945\n",
      "C(country)[T.Switzerland]                      -0.2278      0.783     -0.291      0.771      -1.774       1.318\n",
      "C(country)[T.UK]                               -0.6132      0.690     -0.889      0.375      -1.975       0.749\n",
      "C(country)[T.USA]                              -0.1536      0.673     -0.228      0.820      -1.483       1.175\n",
      "gender_div                                     -0.0024      0.015     -0.162      0.871      -0.032       0.027\n",
      "above_40                                        0.0023      0.024      0.097      0.923      -0.045       0.050\n",
      "roe                                            -0.0004      0.001     -0.452      0.652      -0.002       0.001\n",
      "npm                                             0.0105      0.005      1.934      0.055      -0.000       0.021\n",
      "==============================================================================\n",
      "Omnibus:                        1.758   Durbin-Watson:                   1.394\n",
      "Prob(Omnibus):                  0.415   Jarque-Bera (JB):                1.511\n",
      "Skew:                          -0.027   Prob(JB):                        0.470\n",
      "Kurtosis:                       3.423   Cond. No.                     4.35e+03\n",
      "==============================================================================\n",
      "\n",
      "Notes:\n",
      "[1] Standard Errors assume that the covariance matrix of the errors is correctly specified.\n",
      "[2] The condition number is large, 4.35e+03. This might indicate that there are\n",
      "strong multicollinearity or other numerical problems.\n"
     ]
    }
   ],
   "source": [
    "# Threshold Test (Piecewise)\n",
    "# Here the test is for whether there is a \"critical mass\" effect at 40% gender diversity\n",
    "# This is a common approach when exploring non-linear effects, where the relationship may change once a certain threshold is reached\n",
    "\n",
    "knot = 40.0\n",
    "df[\"above_40\"] = np.where(df[\"gender_div\"] > knot, df[\"gender_div\"] - knot, 0.0)\n",
    "thr_formula = \"log_revenue ~ gender_div + above_40 + roe + npm + C(industry) + C(country)\"\n",
    "model_thr = smf.ols(thr_formula, data=df).fit()\n",
    "print(\"\\nPiecewise (40%) model:\")\n",
    "print(model_thr.summary())"
   ]
  },
  {
   "cell_type": "code",
   "execution_count": 178,
   "id": "1bfe9e70-36b6-469c-9c42-42ddac65947a",
   "metadata": {},
   "outputs": [],
   "source": [
    "# Machine Learning Setup\n",
    "# This section sets up the data for machine learning models. Creation of dummy variables for categorical features (industry and country).\n",
    "# Then concatenation  of all the features into a single dataset (`X`) and extracting the target variable (`y`), which is the log of revenue.\n",
    "\n",
    "X_cat_ind = pd.get_dummies(df[\"industry\"], prefix=\"ind\", drop_first=True)\n",
    "X_cat_cty = pd.get_dummies(df[\"country\"], prefix=\"cty\", drop_first=True)\n",
    "X = pd.concat([df[[\"gender_div\", \"div_score\", \"roe\", \"npm\"]], X_cat_ind, X_cat_cty], axis=1)\n",
    "y = df[\"log_revenue\"].values"
   ]
  },
  {
   "cell_type": "code",
   "execution_count": 180,
   "id": "a12c6847-8021-4ef5-9ad6-5792177fe78b",
   "metadata": {},
   "outputs": [],
   "source": [
    "# Train/test split for hold-out validation\n",
    "\n",
    "X_train, X_test, y_train, y_test = train_test_split(X, y, test_size=0.2, random_state=42)"
   ]
  },
  {
   "cell_type": "code",
   "execution_count": 182,
   "id": "2808663c-3b8d-4c40-b9d5-de191a33f11b",
   "metadata": {},
   "outputs": [
    {
     "name": "stdout",
     "output_type": "stream",
     "text": [
      "\n",
      "Linear Regression test metrics: {'R2_test': -0.024904055001282233, 'MAE_test': 0.8716222669199478, 'RMSE_test': 1.132297805934101}\n"
     ]
    }
   ],
   "source": [
    "# Benchmark: Linear Regression\n",
    "# Using linear regression as a benchmark model to compare with other more complex models\n",
    "# The linear regression will give a baseline R-squared value, which helps to understand how much of the variation in revenue can be explained by the features\n",
    "\n",
    "lin = LinearRegression()\n",
    "lin.fit(X_train, y_train)\n",
    "y_pred_lin = lin.predict(X_test)\n",
    "\n",
    "lin_metrics = {\n",
    "    \"R2_test\": r2_score(y_test, y_pred_lin),\n",
    "    \"MAE_test\": mean_absolute_error(y_test, y_pred_lin),\n",
    "    \"RMSE_test\": math.sqrt(mean_squared_error(y_test, y_pred_lin))\n",
    "}\n",
    "print(\"\\nLinear Regression test metrics:\", lin_metrics)"
   ]
  },
  {
   "cell_type": "code",
   "execution_count": 184,
   "id": "e50eb539-bf3c-496a-9b66-250bd941b9be",
   "metadata": {},
   "outputs": [
    {
     "name": "stdout",
     "output_type": "stream",
     "text": [
      "\n",
      "Decision Tree test metrics: {'R2_test': -0.17087456784342714, 'MAE_test': 0.9418013938531915, 'RMSE_test': 1.2102476458895381}\n"
     ]
    }
   ],
   "source": [
    "# Decision Tree Regressor\n",
    "# Decision trees are tested as they can capture more complex relationships.\n",
    "# Checking the performance of the decision tree on predicting log revenue.\n",
    "\n",
    "tree = DecisionTreeRegressor(max_depth=5, random_state=42)\n",
    "tree.fit(X_train, y_train)\n",
    "y_pred_tree = tree.predict(X_test)\n",
    "\n",
    "tree_metrics = {\n",
    "    \"R2_test\": r2_score(y_test, y_pred_tree),\n",
    "    \"MAE_test\": mean_absolute_error(y_test, y_pred_tree),\n",
    "    \"RMSE_test\": math.sqrt(mean_squared_error(y_test, y_pred_tree))\n",
    "}\n",
    "print(\"\\nDecision Tree test metrics:\", tree_metrics)"
   ]
  },
  {
   "cell_type": "code",
   "execution_count": 186,
   "id": "61cc5610-ae9d-4658-a6fa-cd15d34d0669",
   "metadata": {},
   "outputs": [
    {
     "name": "stdout",
     "output_type": "stream",
     "text": [
      "\n",
      "Random Forest test metrics: {'R2_test': 0.016953016080802796, 'MAE_test': 0.9261328887800104, 'RMSE_test': 1.1089352727032773}\n"
     ]
    }
   ],
   "source": [
    "# Random Forest Regressor with Cross-Validation\n",
    "# Using Random Forests which is an ensemble of decision trees. This model reduces overfitting and provides feature importances\n",
    "# Additionally, cross-validation is used to assess the stability of the model\n",
    "\n",
    "rf = RandomForestRegressor(n_estimators=600, max_depth=None, min_samples_leaf=3, random_state=42)\n",
    "rf.fit(X_train, y_train)\n",
    "y_pred_rf = rf.predict(X_test)\n",
    "\n",
    "rf_metrics = {\n",
    "    \"R2_test\": r2_score(y_test, y_pred_rf),\n",
    "    \"MAE_test\": mean_absolute_error(y_test, y_pred_rf),\n",
    "    \"RMSE_test\": math.sqrt(mean_squared_error(y_test, y_pred_rf))\n",
    "}\n",
    "print(\"\\nRandom Forest test metrics:\", rf_metrics)"
   ]
  },
  {
   "cell_type": "code",
   "execution_count": 188,
   "id": "25ff6a4b-0fbc-44d7-9cdc-ab1362a18416",
   "metadata": {},
   "outputs": [
    {
     "name": "stdout",
     "output_type": "stream",
     "text": [
      "Random Forest 5-fold CV R² (mean ± sd): 0.059 ± 0.173\n"
     ]
    }
   ],
   "source": [
    "# 5-fold cross-validation to validate model performance\n",
    "\n",
    "cv = KFold(n_splits=5, shuffle=True, random_state=42)\n",
    "cv_r2 = cross_val_score(rf, X, y, cv=cv, scoring=\"r2\")\n",
    "print(f\"Random Forest 5-fold CV R² (mean ± sd): {cv_r2.mean():.3f} ± {cv_r2.std():.3f}\")"
   ]
  },
  {
   "cell_type": "code",
   "execution_count": 190,
   "id": "d48f6b0c-65d4-4f8b-a5b4-028d995a8ad5",
   "metadata": {},
   "outputs": [
    {
     "name": "stdout",
     "output_type": "stream",
     "text": [
      "\n",
      "Top 5 features (of importance):\n",
      " npm           0.276859\n",
      "roe           0.204881\n",
      "gender_div    0.127016\n",
      "div_score     0.092305\n",
      "ind_Retail    0.071754\n",
      "dtype: float64\n"
     ]
    },
    {
     "data": {
      "image/png": "[encoded data removed]",
      "text/plain": [
       "<Figure size 600x400 with 1 Axes>"
      ]
     },
     "metadata": {},
     "output_type": "display_data"
    }
   ],
   "source": [
    "# Feature Importances\n",
    "# Random Forests helps with feature importances, which shows which features contributed the most to the model's predictions\n",
    "\n",
    "fi = pd.Series(rf.feature_importances_, index=X.columns).sort_values(ascending=False)\n",
    "print(\"\\nTop 5 features (of importance):\\n\", fi.head(5))\n",
    "\n",
    "plt.figure(figsize=(6, 4))\n",
    "fi.head(5).sort_values().plot(kind=\"barh\")\n",
    "plt.title(\"Random Forest: Top 5 Feature Importances\")\n",
    "plt.tight_layout()\n",
    "plt.show()"
   ]
  },
  {
   "cell_type": "code",
   "execution_count": 192,
   "id": "959c05e1-0368-45f7-a90a-aedd09e6d365",
   "metadata": {},
   "outputs": [
    {
     "data": {
      "image/png": "[encoded data removed]",
      "text/plain": [
       "<Figure size 600x400 with 1 Axes>"
      ]
     },
     "metadata": {},
     "output_type": "display_data"
    }
   ],
   "source": [
    "# Partial Dependence\n",
    "# Visualizing the partial dependence of revenue on gender diversity\n",
    "# This shows how the predicted log revenue changes as gender diversity varies, holding all other features constant\n",
    "\n",
    "import warnings\n",
    "warnings.filterwarnings(\"ignore\")\n",
    "\n",
    "g_vals = np.linspace(df[\"gender_div\"].min(), df[\"gender_div\"].max(), 50)\n",
    "X_ref = X_train.mean(axis=0).to_frame().T  \n",
    "pd_curve = []\n",
    "\n",
    "for g in g_vals:\n",
    "    row = X_ref.copy()\n",
    "    row.loc[:, \"gender_div\"] = g\n",
    "    pd_curve.append(rf.predict(row.values)[0])\n",
    "\n",
    "plt.figure(figsize=(6, 4))\n",
    "plt.plot(g_vals, pd_curve)\n",
    "plt.xlabel(\"Gender Diversity (%)\")\n",
    "plt.ylabel(\"Predicted Log(Revenue + 1)\")\n",
    "plt.title(\"Partial Dependence: Gender Diversity\")\n",
    "plt.tight_layout()\n",
    "plt.show()"
   ]
  },
  {
   "cell_type": "code",
   "execution_count": null,
   "id": "775b0566-d504-46cd-bebb-7902577d93b8",
   "metadata": {},
   "outputs": [],
   "source": []
  },
  {
   "cell_type": "code",
   "execution_count": null,
   "id": "f966f5ef-671d-48e0-96df-79bbf8e4f234",
   "metadata": {},
   "outputs": [],
   "source": []
  }
 ],
 "metadata": {
  "kernelspec": {
   "display_name": "Python 3 (ipykernel)",
   "language": "python",
   "name": "python3"
  },
  "language_info": {
   "codemirror_mode": {
    "name": "ipython",
    "version": 3
   },
   "file_extension": ".py",
   "mimetype": "text/x-python",
   "name": "python",
   "nbconvert_exporter": "python",
   "pygments_lexer": "ipython3",
   "version": "3.12.4"
  }
 },
 "nbformat": 4,
 "nbformat_minor": 5
}
